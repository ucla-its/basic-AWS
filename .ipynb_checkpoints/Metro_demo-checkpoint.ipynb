{
 "cells": [
  {
   "cell_type": "markdown",
   "metadata": {},
   "source": [
    "# Fetching LA Metro Data Using AWS\n",
    "## Based On UCLA ITS Data Camp, Day 1 Exercise *demo added at end*\n",
    "## Retrieving Data via API Calls"
   ]
  },
  {
   "cell_type": "markdown",
   "metadata": {},
   "source": [
    "### Exercise 2: Getting data from LA Metro\n",
    "Most of the time that you are querying APIs for data it will not be so straightforward to get it into a tidy format. Instead, what you will usually want to do is inspect the response content first before deciding how to proceed. Let's take a look at data from [LA Metro's Developer Portal](https://developer.metro.net/). Going to the [Metro Bus & Rail Real-time Arrivals](https://developer.metro.net/portfolio-item/real-time-arrivals/) page, we can see a variety of APIs that are publicly available. Take a look at all the [feeds](https://developer.metro.net/introduction/realtime-api-overview/realtime-api-returning-json/) returning JSON-formatted content, including route information, stop information, and realtime vehicle location information.\n",
    "\n",
    "You will notice that instead of GeoJSON, it is in a slightly different format that requires just a bit of wrangling to get it in the right format."
   ]
  },
  {
   "cell_type": "markdown",
   "metadata": {},
   "source": [
    "##### Create an API Call\n",
    "Pick any of the Metro routes and, following the structure in the example, make a call to get all the current vehicles on that route. Once we get the response (assuming it is successful), let's take a look at the content."
   ]
  },
  {
   "cell_type": "code",
   "execution_count": null,
   "metadata": {},
   "outputs": [],
   "source": [
    "import requests\n",
    "import pandas as pd\n",
    "import os\n",
    "\n",
    "# TODO: Write the statement to call the Metro API and get all vehicles for a particular route\n",
    "#       and store the response as resp\n",
    "# (No need to import the requests package again)\n",
    "resp = requests.get('http://api.metro.net/agencies/lametro/routes/733/vehicles/')\n",
    "print(resp.status_code)\n",
    "# TODO: Store the JSON content as `data`\n",
    "data = resp.json()"
   ]
  },
  {
   "cell_type": "code",
   "execution_count": null,
   "metadata": {},
   "outputs": [],
   "source": [
    "data"
   ]
  },
  {
   "cell_type": "markdown",
   "metadata": {},
   "source": [
    "You will notice that instead of GeoJSON, it is in a slightly different format. We can convert a list of key, value pairs into a Pandas dataframe easily by `df = pd.DataFrame(dict)`. Let's go ahead and convert the json output into a dict. _Hint: Make sure you access the list part of the JSON output!_"
   ]
  },
  {
   "cell_type": "code",
   "execution_count": null,
   "metadata": {},
   "outputs": [],
   "source": [
    "# TODO: Convert the JSON output to a dataframe\n",
    "metro_df = pd.DataFrame(data['items'])\n",
    "\n",
    "# Examine the head of the dataframe\n",
    "metro_df.head()"
   ]
  },
  {
   "cell_type": "markdown",
   "metadata": {},
   "source": [
    "##### Add a Column to the DataFrame\n",
    "One thing you will notice is that when we made the dataframe above, we are missing the timestamp of the query. If we plan to write out the data for analysis later, we need to add the time of the query as a column value. The easiest way to get the current time in Python is through the [datetime](https://docs.python.org/2/library/datetime.html) package. Take a little bit of time to look through the documentation with a particular focus on the `now()` method.\n",
    "\n",
    "Once we get the value of the current time, we can add it as a new column value to our current dataframe. Create an additonal column `call_time`. In the function, get the current timestamp of the call and add it as the value for that column."
   ]
  },
  {
   "cell_type": "code",
   "execution_count": null,
   "metadata": {},
   "outputs": [],
   "source": [
    "# Import the datetime module\n",
    "import datetime as dt\n",
    "\n",
    "# TODO: Get the current time\n",
    "now = dt.datetime.now()\n",
    "\n",
    "# TODO: Add the current time as a value to the dataframe column `call_time`\n",
    "metro_df['call_time'] = now"
   ]
  },
  {
   "cell_type": "code",
   "execution_count": null,
   "metadata": {},
   "outputs": [],
   "source": [
    "metro_df.head()"
   ]
  },
  {
   "cell_type": "markdown",
   "metadata": {},
   "source": [
    "##### Wrap the API Call in a Function\n",
    "Let's create a function to take a Route ID and make the API call for all realtime vehicle locations on that route. Add in the code we used in the block above to also create a column with the time we called the API.\n",
    "\n",
    "_Function Input:_ Route ID  \n",
    "_Function Output:_ Response Dataframe with the content response "
   ]
  },
  {
   "cell_type": "code",
   "execution_count": null,
   "metadata": {},
   "outputs": [],
   "source": [
    "# TODO: Create the function\n",
    "def get_vehicles_byroute(routenum):\n",
    "    resp = requests.get('http://api.metro.net/agencies/lametro/routes/%s/vehicles/' % routenum)\n",
    "    print(resp.status_code)\n",
    "    # TODO: Store the JSON content as `data`\n",
    "    data = resp.json()\n",
    "    # TODO: Convert the JSON output to a dataframe\n",
    "    routedata = pd.DataFrame(data['items'])\n",
    "\n",
    "    # Examine the head of the dataframe\n",
    "    #routedata.head()\n",
    "    # Import the datetime module\n",
    "    \n",
    "\n",
    "    # TODO: Get the current time\n",
    "    now = dt.datetime.now()\n",
    "\n",
    "    # TODO: Add the current time as a value to the dataframe column `call_time`\n",
    "    routedata['call_time'] = now\n",
    "    return routedata"
   ]
  },
  {
   "cell_type": "markdown",
   "metadata": {},
   "source": [
    "Let's take a look to make sure our function is working correctly. Run the cell below to confirm that you are getting the desired result. Go ahead and try changing the input and see how the output changes."
   ]
  },
  {
   "cell_type": "code",
   "execution_count": null,
   "metadata": {},
   "outputs": [],
   "source": [
    "# Call the function for one of the routes\n",
    "routedata = get_vehicles_byroute(720)\n",
    "\n",
    "# Examine the head of the dataframe\n",
    "routedata.head()"
   ]
  },
  {
   "cell_type": "markdown",
   "metadata": {},
   "source": [
    "##### Add Functionality\n",
    "Great! Now we are able to change the route number and get a dataframe with the current location of all vehicles on the route. One of the next things we might want to do would be to get data from the route throughout the day and store it for later analysis. To do that we are going to need to add the following functionality into our function:\n",
    "\n",
    "1. Write out the csv to the a file in our `data/processed` folder. Let's set the filename to the format `lametro_[routenum]_[timestamp].csv` (Eg. `lametro_720_2019-09-10-22-26-52.csv`). To write out the file, go ahead and use [Panda's method](https://pandas.pydata.org/pandas-docs/stable/reference/api/pandas.DataFrame.to_csv.html) for writing out a csv file.\n",
    "2. Add conditional logic to only write out the file if the call was a success. If the call was not successful, print out the error message. Take a look [here](https://2.python-requests.org/en/master/user/quickstart/#response-status-codes) for some guidance.\n",
    "\n",
    "As the function gets a bit more complex, please add appropriate code comments inside to quickly convey the purpose of each code block.\n"
   ]
  },
  {
   "cell_type": "code",
   "execution_count": null,
   "metadata": {},
   "outputs": [],
   "source": [
    "print(dt.datetime.now())"
   ]
  },
  {
   "cell_type": "code",
   "execution_count": null,
   "metadata": {},
   "outputs": [],
   "source": [
    "# TODO: Re-write the function with the requested features\n",
    "def get_vehicles_byroute(routenum):\n",
    "    #make request with requested route number\n",
    "    resp = requests.get('http://api.metro.net/agencies/lametro/routes/%s/vehicles/' % routenum)\n",
    "    #print(resp.status_code)\n",
    "    \n",
    "    #check if call is successful\n",
    "    if resp.status_code != requests.codes.ok:\n",
    "        print('API call unsuccessful')\n",
    "        resp.raise_for_status()\n",
    "        return\n",
    "        \n",
    "    # TODO: Store the JSON content as `data`\n",
    "    data = resp.json()\n",
    "    # TODO: Convert the JSON output to a dataframe\n",
    "    routedata = pd.DataFrame(data['items'])\n",
    "\n",
    "    # Examine the head of the dataframe\n",
    "    #routedata.head()\n",
    "    \n",
    "    # TODO: Get the current time\n",
    "    now = dt.datetime.now()\n",
    "\n",
    "    # TODO: Add the current time as a value to the dataframe column `call_time`\n",
    "    routedata['call_time'] = now\n",
    "    \n",
    "    #make output directory, if necessary\n",
    "    cwd = os.getcwd()\n",
    "    #print(cwd)\n",
    "    if not os.path.exists(\"%s/data/processed\" % cwd):\n",
    "        os.makedirs(\"%s/data/processed\" % cwd)\n",
    "    \n",
    "    #write to CSV\n",
    "    #routedata.to_csv('data/processed/lametro_%s_%s.csv' % (routenum, now))\n",
    "    fname = f\"lametro_{routenum}_{now.strftime('%Y-%m-%d-%H-%M-%S')}.csv\"\n",
    "    fpath = \"%s/data/processed/\" % cwd + fname\n",
    "    routedata.to_csv(fpath, index=False)\n",
    "    return routedata"
   ]
  },
  {
   "cell_type": "markdown",
   "metadata": {},
   "source": [
    "Let's go ahead and call the function again for one of the routes to ensure that it was written out correctly."
   ]
  },
  {
   "cell_type": "code",
   "execution_count": null,
   "metadata": {},
   "outputs": [],
   "source": [
    "get_vehicles_byroute(704)"
   ]
  },
  {
   "cell_type": "markdown",
   "metadata": {},
   "source": [
    "Check your data folder - if everything was successful, you should see a CSV file with the data from the call.\n",
    "##### Introduction to variable-length arguments \n",
    "We've now built a function that, for a given route, will get current vehicle location data, format it into a dataframe, and write it out to a CSV file with the current datetime. What if we were interested in 2 routes? or 3 routes? Let's build another function that takes as input a _variable number of route numbers_ and then gets the vehicle data for each of them.\n",
    "  \n",
    "We will do this through the [_*args_ syntax](https://www.geeksforgeeks.org/args-kwargs-python/). Following that syntax, create a function called `get_vehicles_byroutes` that takes in a variable number of route numbers. For each route number, the function should call our other function `get_vehicles_byroute`. Between each call to our original function, add a 5 second pause to reduce the load on the server."
   ]
  },
  {
   "cell_type": "code",
   "execution_count": null,
   "metadata": {},
   "outputs": [],
   "source": [
    "import time\n",
    "\n",
    "# TODO: Finish composing the function\n",
    "def get_vehicles_byroutes(*routes):\n",
    "    for route in routes:\n",
    "        get_vehicles_byroute(route)\n",
    "        time.sleep(5)"
   ]
  },
  {
   "cell_type": "markdown",
   "metadata": {},
   "source": [
    "##### Create a Loop to run the Function \n",
    "Great! We now have a function that calls the Metro's API, records the location of all vehicles for a particular route(s), logs the current timestamp, and saves the file in a location of our choosing. Let's (1) pick a few routes we want to get data from and (2) create a loop that runs the `get_vehicles_byroutes` function 1x per minute, for 5 minutes with those route numbers as the input.\n"
   ]
  },
  {
   "cell_type": "code",
   "execution_count": null,
   "metadata": {},
   "outputs": [],
   "source": [
    "# TODO: Execute the function 5x, each time separated by a minute\n",
    "for _ in range(5):\n",
    "    get_vehicles_byroutes(20, 720, 33)\n",
    "    time.sleep(60)"
   ]
  },
  {
   "cell_type": "markdown",
   "metadata": {},
   "source": [
    "#### Fetch a day's worth of LA Metro data\n",
    "\n",
    "After starting this notebook on your EC2 instance using Screen, run the below cells to fetch a day's worth of LA Metro data for the 20 and 720. This function could be expanded, for example by passing the collection duration as an arguement instead of hardcoding one day. Make sure you've run the rest of the notebook first since it includes necessary imports and function definitions.\n",
    "\n",
    "Also consider:\n",
    "1. Some sort of error-handling that will ensure it keeps running if an API call is unsuccessful. Right now, the check coded into ```get_vehicles_byroute``` will end the loop if it encounters an unsuccessful call. You may also consider finding some way for the function to alert you if a call is unsuccessful (email perhaps?).\n",
    "2. A data structure that meets your needs. Right now, each query generates its own .csv file, just like in the original ITS Data Camp notebook. Since thousands of files may be unwieldy to work with if you're collecting data for many routes over a long period of time, you might want to find a better way."
   ]
  },
  {
   "cell_type": "code",
   "execution_count": null,
   "metadata": {},
   "outputs": [],
   "source": [
    "def get_vehicles_oneday(*routes):\n",
    "    \n",
    "    #create datetime objects for now and 1 day from now\n",
    "    now = dt.datetime.now()\n",
    "    then = now + dt.timedelta(days=1)\n",
    "    \n",
    "    #loop will end when current time passes target \n",
    "    while now < then:\n",
    "        get_vehicles_byroutes(*routes)\n",
    "        \n",
    "        #request data every 2 minutes using delay\n",
    "        time.sleep(120)\n",
    "        \n",
    "        #update current time\n",
    "        now = dt.datetime.now()"
   ]
  },
  {
   "cell_type": "code",
   "execution_count": null,
   "metadata": {},
   "outputs": [],
   "source": [
    "get_vehicles_oneday(20, 720)"
   ]
  }
 ],
 "metadata": {
  "kernelspec": {
   "display_name": "Python 3",
   "language": "python",
   "name": "python3"
  },
  "language_info": {
   "codemirror_mode": {
    "name": "ipython",
    "version": 3
   },
   "file_extension": ".py",
   "mimetype": "text/x-python",
   "name": "python",
   "nbconvert_exporter": "python",
   "pygments_lexer": "ipython3",
   "version": "3.7.3"
  }
 },
 "nbformat": 4,
 "nbformat_minor": 2
}
